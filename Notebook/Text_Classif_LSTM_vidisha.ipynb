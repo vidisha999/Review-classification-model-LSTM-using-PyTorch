{
 "cells": [
  {
   "cell_type": "code",
   "execution_count": 44,
   "metadata": {},
   "outputs": [],
   "source": [
    "%%capture\n",
    "!pip install nltk==3.7\n",
    "!pip install numpy==1.21.5\n",
    "!pip install pandas==1.3.5\n",
    "!pip install scikit_learn==1.0.2\n",
    "!pip install tensorflow==2.19.0\n",
    "!pip install torch==2.6.0\n",
    "!pip install matplotlib==3.4.3"
   ]
  },
  {
   "cell_type": "code",
   "execution_count": 45,
   "metadata": {
    "id": "SqW-HqXiVVpU"
   },
   "outputs": [],
   "source": [
    "import re\n",
    "import nltk\n",
    "import time\n",
    "import torch\n",
    "import string\n",
    "import numpy as np\n",
    "import pandas as pd\n",
    "import torch.nn as nn\n",
    "import tensorflow as tf"
   ]
  },
  {
   "cell_type": "code",
   "execution_count": 46,
   "metadata": {},
   "outputs": [
    {
     "name": "stderr",
     "output_type": "stream",
     "text": [
      "/tmp/ipykernel_26266/3972145178.py:7: FutureWarning: Passing a negative integer is deprecated in version 1.0 and will not be supported in future version. Instead, use None to not limit the column width.\n",
      "  pd.set_option('display.max_colwidth', -1) # Allow full column display\n",
      "[nltk_data] Downloading package stopwords to\n",
      "[nltk_data]     /home/ec2-user/nltk_data...\n",
      "[nltk_data]   Package stopwords is already up-to-date!\n"
     ]
    },
    {
     "data": {
      "text/plain": [
       "True"
      ]
     },
     "execution_count": 46,
     "metadata": {},
     "output_type": "execute_result"
    }
   ],
   "source": [
    "from nltk import PorterStemmer\n",
    "import torch.nn.functional as F\n",
    "import matplotlib.pyplot as plt\n",
    "from nltk.corpus import stopwords\n",
    "from sklearn.utils import resample\n",
    "from sklearn.model_selection import train_test_split\n",
    "pd.set_option('display.max_colwidth', -1) # Allow full column display\n",
    "nltk.download('stopwords')"
   ]
  },
  {
   "cell_type": "markdown",
   "metadata": {
    "id": "AX3D0BeaDXjO"
   },
   "source": [
    "## Exploring the dataset"
   ]
  },
  {
   "cell_type": "code",
   "execution_count": 47,
   "metadata": {
    "id": "1rDEMAW8Vq9e"
   },
   "outputs": [
    {
     "data": {
      "text/html": [
       "<div>\n",
       "<style scoped>\n",
       "    .dataframe tbody tr th:only-of-type {\n",
       "        vertical-align: middle;\n",
       "    }\n",
       "\n",
       "    .dataframe tbody tr th {\n",
       "        vertical-align: top;\n",
       "    }\n",
       "\n",
       "    .dataframe thead th {\n",
       "        text-align: right;\n",
       "    }\n",
       "</style>\n",
       "<table border=\"1\" class=\"dataframe\">\n",
       "  <thead>\n",
       "    <tr style=\"text-align: right;\">\n",
       "      <th></th>\n",
       "      <th>reviewId</th>\n",
       "      <th>userName</th>\n",
       "      <th>userImage</th>\n",
       "      <th>content</th>\n",
       "      <th>score</th>\n",
       "      <th>thumbsUpCount</th>\n",
       "      <th>reviewCreatedVersion</th>\n",
       "      <th>at</th>\n",
       "      <th>replyContent</th>\n",
       "      <th>repliedAt</th>\n",
       "    </tr>\n",
       "  </thead>\n",
       "  <tbody>\n",
       "    <tr>\n",
       "      <th>0</th>\n",
       "      <td>gp:AOqpTOFxf3fttcT5DSvFIn9KPp5FErgH9yC533FmoxvwtULxu2YBbXfmhq6970jW2OET7OjXuTNPbUz82cWbAtk</td>\n",
       "      <td>Donna Caritero</td>\n",
       "      <td>https://play-lh.googleusercontent.com/a-/AOh14Gg4pUoP3Bc6Lgata4x9jnR4bwKnT_eyLAMWaHs7fg</td>\n",
       "      <td>Overall it's really an amazing app. I've been using this for the past 5 years however I only have one issue though and I wanted this to get address since I think this issue had lasted for how many years? The texts were blurred and when you zoom it out it's pixelated. I thought this issue only occurs on mobile apps however it was also present on the website. Please fix this. I still remember the time when I can export high definition texts and I love that experience. Thank you!</td>\n",
       "      <td>4</td>\n",
       "      <td>528</td>\n",
       "      <td>2.116.0</td>\n",
       "      <td>2021-06-17 07:18:54</td>\n",
       "      <td>Hi Donna. We are sorry that your text or design turned out pixelated or poor quality. Check this link for possible reasons: https://bit.ly/2Pxkphr. For other concerns, report it at canva.me/android. Regards. - Ahn\\n</td>\n",
       "      <td>2021-06-19 21:24:32</td>\n",
       "    </tr>\n",
       "    <tr>\n",
       "      <th>1</th>\n",
       "      <td>gp:AOqpTOEq6rNIWLnPV4KFTctWvm0mpGEQljtD6mvy1H-F1hD4TQaLg-fgsVyTLNaHOWFpVUEtAgJ-9ynp_vKWE3Y</td>\n",
       "      <td>Soumi Mukhopadhyay</td>\n",
       "      <td>https://play-lh.googleusercontent.com/a-/AOh14Ghv6nzkP8W4xDBH0PfDbiDNSxlKbWGh_6s6U3avzg</td>\n",
       "      <td>Hey! Yes I gave a 5 star rating... coz I believe it deserves it! I mostly use the desktop version and I am seriously so satisfied with this app in both android and desktop version. I just came here to thank the developers for this beautiful app and its facilities. I literally find almost everything that I need for and the best part is even without the premium feature it provides us with a lot many facilities. I love it! Thank you..! ❤</td>\n",
       "      <td>5</td>\n",
       "      <td>351</td>\n",
       "      <td>2.116.0</td>\n",
       "      <td>2021-06-17 19:18:28</td>\n",
       "      <td>NaN</td>\n",
       "      <td>NaN</td>\n",
       "    </tr>\n",
       "  </tbody>\n",
       "</table>\n",
       "</div>"
      ],
      "text/plain": [
       "                                                                                     reviewId  \\\n",
       "0  gp:AOqpTOFxf3fttcT5DSvFIn9KPp5FErgH9yC533FmoxvwtULxu2YBbXfmhq6970jW2OET7OjXuTNPbUz82cWbAtk   \n",
       "1  gp:AOqpTOEq6rNIWLnPV4KFTctWvm0mpGEQljtD6mvy1H-F1hD4TQaLg-fgsVyTLNaHOWFpVUEtAgJ-9ynp_vKWE3Y   \n",
       "\n",
       "             userName  \\\n",
       "0  Donna Caritero       \n",
       "1  Soumi Mukhopadhyay   \n",
       "\n",
       "                                                                                 userImage  \\\n",
       "0  https://play-lh.googleusercontent.com/a-/AOh14Gg4pUoP3Bc6Lgata4x9jnR4bwKnT_eyLAMWaHs7fg   \n",
       "1  https://play-lh.googleusercontent.com/a-/AOh14Ghv6nzkP8W4xDBH0PfDbiDNSxlKbWGh_6s6U3avzg   \n",
       "\n",
       "                                                                                                                                                                                                                                                                                                                                                                                                                                                                                             content  \\\n",
       "0  Overall it's really an amazing app. I've been using this for the past 5 years however I only have one issue though and I wanted this to get address since I think this issue had lasted for how many years? The texts were blurred and when you zoom it out it's pixelated. I thought this issue only occurs on mobile apps however it was also present on the website. Please fix this. I still remember the time when I can export high definition texts and I love that experience. Thank you!   \n",
       "1  Hey! Yes I gave a 5 star rating... coz I believe it deserves it! I mostly use the desktop version and I am seriously so satisfied with this app in both android and desktop version. I just came here to thank the developers for this beautiful app and its facilities. I literally find almost everything that I need for and the best part is even without the premium feature it provides us with a lot many facilities. I love it! Thank you..! ❤                                              \n",
       "\n",
       "   score  thumbsUpCount reviewCreatedVersion                   at  \\\n",
       "0  4      528            2.116.0              2021-06-17 07:18:54   \n",
       "1  5      351            2.116.0              2021-06-17 19:18:28   \n",
       "\n",
       "                                                                                                                                                                                                              replyContent  \\\n",
       "0  Hi Donna. We are sorry that your text or design turned out pixelated or poor quality. Check this link for possible reasons: https://bit.ly/2Pxkphr. For other concerns, report it at canva.me/android. Regards. - Ahn\\n   \n",
       "1  NaN                                                                                                                                                                                                                       \n",
       "\n",
       "             repliedAt  \n",
       "0  2021-06-19 21:24:32  \n",
       "1  NaN                  "
      ]
     },
     "execution_count": 47,
     "metadata": {},
     "output_type": "execute_result"
    }
   ],
   "source": [
    "#reading data\n",
    "data = pd.read_csv('Data/review_data_LSTM.csv')\n",
    "data.head(2)"
   ]
  },
  {
   "cell_type": "code",
   "execution_count": 48,
   "metadata": {
    "id": "rg1YLD7xVyEg",
    "scrolled": true
   },
   "outputs": [
    {
     "name": "stdout",
     "output_type": "stream",
     "text": [
      "<class 'pandas.core.frame.DataFrame'>\n",
      "RangeIndex: 1500 entries, 0 to 1499\n",
      "Data columns (total 10 columns):\n",
      " #   Column                Non-Null Count  Dtype \n",
      "---  ------                --------------  ----- \n",
      " 0   reviewId              1500 non-null   object\n",
      " 1   userName              1500 non-null   object\n",
      " 2   userImage             1500 non-null   object\n",
      " 3   content               1500 non-null   object\n",
      " 4   score                 1500 non-null   int64 \n",
      " 5   thumbsUpCount         1500 non-null   int64 \n",
      " 6   reviewCreatedVersion  1500 non-null   object\n",
      " 7   at                    1500 non-null   object\n",
      " 8   replyContent          523 non-null    object\n",
      " 9   repliedAt             523 non-null    object\n",
      "dtypes: int64(2), object(8)\n",
      "memory usage: 117.3+ KB\n"
     ]
    }
   ],
   "source": [
    "# Find information about the dataset\n",
    "data.info()"
   ]
  },
  {
   "cell_type": "code",
   "execution_count": 49,
   "metadata": {
    "id": "UotzM64FV4b8"
   },
   "outputs": [
    {
     "data": {
      "text/html": [
       "<div>\n",
       "<style scoped>\n",
       "    .dataframe tbody tr th:only-of-type {\n",
       "        vertical-align: middle;\n",
       "    }\n",
       "\n",
       "    .dataframe tbody tr th {\n",
       "        vertical-align: top;\n",
       "    }\n",
       "\n",
       "    .dataframe thead th {\n",
       "        text-align: right;\n",
       "    }\n",
       "</style>\n",
       "<table border=\"1\" class=\"dataframe\">\n",
       "  <thead>\n",
       "    <tr style=\"text-align: right;\">\n",
       "      <th></th>\n",
       "      <th>content</th>\n",
       "      <th>score</th>\n",
       "    </tr>\n",
       "  </thead>\n",
       "  <tbody>\n",
       "    <tr>\n",
       "      <th>0</th>\n",
       "      <td>Overall it's really an amazing app. I've been using this for the past 5 years however I only have one issue though and I wanted this to get address since I think this issue had lasted for how many years? The texts were blurred and when you zoom it out it's pixelated. I thought this issue only occurs on mobile apps however it was also present on the website. Please fix this. I still remember the time when I can export high definition texts and I love that experience. Thank you!</td>\n",
       "      <td>4</td>\n",
       "    </tr>\n",
       "    <tr>\n",
       "      <th>1</th>\n",
       "      <td>Hey! Yes I gave a 5 star rating... coz I believe it deserves it! I mostly use the desktop version and I am seriously so satisfied with this app in both android and desktop version. I just came here to thank the developers for this beautiful app and its facilities. I literally find almost everything that I need for and the best part is even without the premium feature it provides us with a lot many facilities. I love it! Thank you..! ❤</td>\n",
       "      <td>5</td>\n",
       "    </tr>\n",
       "    <tr>\n",
       "      <th>2</th>\n",
       "      <td>Canva used to be a good app! But recently I've been facing issues in saving my files. When I want my files to be saved in '.png' format, it gets saved in .jpg format! Moreover when I want my files to be saved it gets stuck at the downloading screen (where your so called magic does not happen) For now you'll be getting 1 stars from me. I hope you will fix the app soon! Thank you .</td>\n",
       "      <td>1</td>\n",
       "    </tr>\n",
       "    <tr>\n",
       "      <th>3</th>\n",
       "      <td>It's a brilliant app, but I have just one problem, if I'm editing a post and I double tap the photo to reposition, if I then start to zoom the photo, 8 times out of 10 my app crashes and restarts, this is on my LG G5 SE, sometimes I've had to go over to the desktop version on my PC just to reposition and zoom the photo where I want it to then resume editing back on my mobile.</td>\n",
       "      <td>5</td>\n",
       "    </tr>\n",
       "    <tr>\n",
       "      <th>4</th>\n",
       "      <td>This was such a great app. I used to make BTS memes through this. But after recent update... I'm not able to change my font style. The edit option of font is missing. I tried uninstalling and installing the app, but still it's isn't working. The edit option for font is appearing very rarely. The previous version was far better. Canva could you please work on it! 💜</td>\n",
       "      <td>4</td>\n",
       "    </tr>\n",
       "    <tr>\n",
       "      <th>...</th>\n",
       "      <td>...</td>\n",
       "      <td>...</td>\n",
       "    </tr>\n",
       "    <tr>\n",
       "      <th>1495</th>\n",
       "      <td>Absolutely amazing and a lifesaver for teachers.</td>\n",
       "      <td>5</td>\n",
       "    </tr>\n",
       "    <tr>\n",
       "      <th>1496</th>\n",
       "      <td>Very nice but many a times shows error opening the ppt. This was my school project and now has disturbed me.</td>\n",
       "      <td>3</td>\n",
       "    </tr>\n",
       "    <tr>\n",
       "      <th>1497</th>\n",
       "      <td>Too much lag. Always stuck on starting page. Worst app. Don't download</td>\n",
       "      <td>1</td>\n",
       "    </tr>\n",
       "    <tr>\n",
       "      <th>1498</th>\n",
       "      <td>Nice app for all college work. So many features and templates to work with. Loved it❤️</td>\n",
       "      <td>5</td>\n",
       "    </tr>\n",
       "    <tr>\n",
       "      <th>1499</th>\n",
       "      <td>I am a teacher and this was so much for this school year! Love this.</td>\n",
       "      <td>5</td>\n",
       "    </tr>\n",
       "  </tbody>\n",
       "</table>\n",
       "<p>1500 rows × 2 columns</p>\n",
       "</div>"
      ],
      "text/plain": [
       "                                                                                                                                                                                                                                                                                                                                                                                                                                                                                                content  \\\n",
       "0     Overall it's really an amazing app. I've been using this for the past 5 years however I only have one issue though and I wanted this to get address since I think this issue had lasted for how many years? The texts were blurred and when you zoom it out it's pixelated. I thought this issue only occurs on mobile apps however it was also present on the website. Please fix this. I still remember the time when I can export high definition texts and I love that experience. Thank you!   \n",
       "1     Hey! Yes I gave a 5 star rating... coz I believe it deserves it! I mostly use the desktop version and I am seriously so satisfied with this app in both android and desktop version. I just came here to thank the developers for this beautiful app and its facilities. I literally find almost everything that I need for and the best part is even without the premium feature it provides us with a lot many facilities. I love it! Thank you..! ❤                                              \n",
       "2     Canva used to be a good app! But recently I've been facing issues in saving my files. When I want my files to be saved in '.png' format, it gets saved in .jpg format! Moreover when I want my files to be saved it gets stuck at the downloading screen (where your so called magic does not happen) For now you'll be getting 1 stars from me. I hope you will fix the app soon! Thank you .                                                                                                      \n",
       "3     It's a brilliant app, but I have just one problem, if I'm editing a post and I double tap the photo to reposition, if I then start to zoom the photo, 8 times out of 10 my app crashes and restarts, this is on my LG G5 SE, sometimes I've had to go over to the desktop version on my PC just to reposition and zoom the photo where I want it to then resume editing back on my mobile.                                                                                                          \n",
       "4     This was such a great app. I used to make BTS memes through this. But after recent update... I'm not able to change my font style. The edit option of font is missing. I tried uninstalling and installing the app, but still it's isn't working. The edit option for font is appearing very rarely. The previous version was far better. Canva could you please work on it! 💜                                                                                                                      \n",
       "...                                                                                                                                                                                                                                                                                                                                                                              ...                                                                                                                      \n",
       "1495  Absolutely amazing and a lifesaver for teachers.                                                                                                                                                                                                                                                                                                                                                                                                                                                    \n",
       "1496  Very nice but many a times shows error opening the ppt. This was my school project and now has disturbed me.                                                                                                                                                                                                                                                                                                                                                                                        \n",
       "1497  Too much lag. Always stuck on starting page. Worst app. Don't download                                                                                                                                                                                                                                                                                                                                                                                                                              \n",
       "1498  Nice app for all college work. So many features and templates to work with. Loved it❤️                                                                                                                                                                                                                                                                                                                                                                                                              \n",
       "1499  I am a teacher and this was so much for this school year! Love this.                                                                                                                                                                                                                                                                                                                                                                                                                                \n",
       "\n",
       "      score  \n",
       "0     4      \n",
       "1     5      \n",
       "2     1      \n",
       "3     5      \n",
       "4     4      \n",
       "...  ..      \n",
       "1495  5      \n",
       "1496  3      \n",
       "1497  1      \n",
       "1498  5      \n",
       "1499  5      \n",
       "\n",
       "[1500 rows x 2 columns]"
      ]
     },
     "execution_count": 49,
     "metadata": {},
     "output_type": "execute_result"
    }
   ],
   "source": [
    "data = data[['content','score']]\n",
    "data"
   ]
  },
  {
   "cell_type": "markdown",
   "metadata": {
    "id": "AbFMlvE_VuK8"
   },
   "source": [
    "### Function to Clean the Text"
   ]
  },
  {
   "cell_type": "code",
   "execution_count": 50,
   "metadata": {
    "id": "tN71AhDCWBif"
   },
   "outputs": [],
   "source": [
    " # Defining a Function to Clean the Textual Data\n",
    " \n",
    "def clean_text(txt):\n",
    "    \n",
    "  txt = txt.lower() #Lowering the text\n",
    "  txt = re.sub(r'\\W', ' ', str(txt)) # remove all special characters \n",
    "  txt = txt.translate(str.maketrans('', '', string.punctuation)) # remove punctuations\n",
    "  txt = ''.join([i for i in txt if not i.isdigit()]).strip() # remove digits ()\n",
    "  txt = re.sub(r'\\s+[a-zA-Z]\\s+', ' ', txt)   # remove all single characters \n",
    "  txt = re.sub(r'\\s+', ' ', txt, flags=re.I) # Substituting multiple spaces with single space\n",
    "  txt = re.sub(r\"(http\\S+|http)\", \"\", txt) # remove links\n",
    "  txt = ' '.join([PorterStemmer().stem(word=word) for word in txt.split(\" \") if word not in stopwords.words('english') ]) # stem & remove stop words\n",
    "  return txt\n"
   ]
  },
  {
   "cell_type": "code",
   "execution_count": 51,
   "metadata": {
    "id": "SamWezXOYtTw"
   },
   "outputs": [
    {
     "name": "stdout",
     "output_type": "stream",
     "text": [
      "Original Text :  Hey! Yes I gave a 5 star rating... coz I believe it deserves it! I mostly use the desktop version and I am seriously so satisfied with this app in both android and desktop version. I just came here to thank the developers for this beautiful app and its facilities. I literally find almost everything that I need for and the best part is even without the premium feature it provides us with a lot many facilities. I love it! Thank you..! ❤\n",
      "\n",
      "\n",
      "Processed Text :  hey ye gave star rate coz believ deserv mostli use desktop version serious satisfi app android desktop version came thank develop beauti app facil liter find almost everyth need best part even without premium featur provid us lot mani facil love thank\n"
     ]
    }
   ],
   "source": [
    " #Compare original text with the cleaned text \n",
    "\n",
    "print('Original Text : ',data['content'][1])  \n",
    "print('\\n')\n",
    "print('Processed Text : ',clean_text(data['content'][1]))"
   ]
  },
  {
   "cell_type": "code",
   "execution_count": 52,
   "metadata": {
    "id": "sUsM5_YTY21t"
   },
   "outputs": [
    {
     "data": {
      "text/html": [
       "<div>\n",
       "<style scoped>\n",
       "    .dataframe tbody tr th:only-of-type {\n",
       "        vertical-align: middle;\n",
       "    }\n",
       "\n",
       "    .dataframe tbody tr th {\n",
       "        vertical-align: top;\n",
       "    }\n",
       "\n",
       "    .dataframe thead th {\n",
       "        text-align: right;\n",
       "    }\n",
       "</style>\n",
       "<table border=\"1\" class=\"dataframe\">\n",
       "  <thead>\n",
       "    <tr style=\"text-align: right;\">\n",
       "      <th></th>\n",
       "      <th>content</th>\n",
       "      <th>score</th>\n",
       "    </tr>\n",
       "  </thead>\n",
       "  <tbody>\n",
       "    <tr>\n",
       "      <th>0</th>\n",
       "      <td>overal realli amaz app use past year howev one issu though want get address sinc think issu last mani year text blur zoom pixel thought issu occur mobil app howev also present websit pleas fix still rememb time export high definit text love experi thank</td>\n",
       "      <td>4</td>\n",
       "    </tr>\n",
       "    <tr>\n",
       "      <th>1</th>\n",
       "      <td>hey ye gave star rate coz believ deserv mostli use desktop version serious satisfi app android desktop version came thank develop beauti app facil liter find almost everyth need best part even without premium featur provid us lot mani facil love thank</td>\n",
       "      <td>5</td>\n",
       "    </tr>\n",
       "    <tr>\n",
       "      <th>2</th>\n",
       "      <td>canva use good app recent face issu save file want file save png format get save jpg format moreov want file save get stuck download screen call magic happen get star hope fix app soon thank</td>\n",
       "      <td>1</td>\n",
       "    </tr>\n",
       "    <tr>\n",
       "      <th>3</th>\n",
       "      <td>brilliant app one problem edit post doubl tap photo reposit start zoom photo time app crash restart lg se sometim go desktop version pc reposit zoom photo want resum edit back mobil</td>\n",
       "      <td>5</td>\n",
       "    </tr>\n",
       "    <tr>\n",
       "      <th>4</th>\n",
       "      <td>great app use make bt meme recent updat abl chang font style edit option font miss tri uninstal instal app still work edit option font appear rare previou version far better canva could pleas work</td>\n",
       "      <td>4</td>\n",
       "    </tr>\n",
       "    <tr>\n",
       "      <th>...</th>\n",
       "      <td>...</td>\n",
       "      <td>...</td>\n",
       "    </tr>\n",
       "    <tr>\n",
       "      <th>1495</th>\n",
       "      <td>absolut amaz lifesav teacher</td>\n",
       "      <td>5</td>\n",
       "    </tr>\n",
       "    <tr>\n",
       "      <th>1496</th>\n",
       "      <td>nice mani time show error open ppt school project disturb</td>\n",
       "      <td>3</td>\n",
       "    </tr>\n",
       "    <tr>\n",
       "      <th>1497</th>\n",
       "      <td>much lag alway stuck start page worst app download</td>\n",
       "      <td>1</td>\n",
       "    </tr>\n",
       "    <tr>\n",
       "      <th>1498</th>\n",
       "      <td>nice app colleg work mani featur templat work love</td>\n",
       "      <td>5</td>\n",
       "    </tr>\n",
       "    <tr>\n",
       "      <th>1499</th>\n",
       "      <td>teacher much school year love</td>\n",
       "      <td>5</td>\n",
       "    </tr>\n",
       "  </tbody>\n",
       "</table>\n",
       "<p>1500 rows × 2 columns</p>\n",
       "</div>"
      ],
      "text/plain": [
       "                                                                                                                                                                                                                                                            content  \\\n",
       "0     overal realli amaz app use past year howev one issu though want get address sinc think issu last mani year text blur zoom pixel thought issu occur mobil app howev also present websit pleas fix still rememb time export high definit text love experi thank   \n",
       "1     hey ye gave star rate coz believ deserv mostli use desktop version serious satisfi app android desktop version came thank develop beauti app facil liter find almost everyth need best part even without premium featur provid us lot mani facil love thank     \n",
       "2     canva use good app recent face issu save file want file save png format get save jpg format moreov want file save get stuck download screen call magic happen get star hope fix app soon thank                                                                  \n",
       "3     brilliant app one problem edit post doubl tap photo reposit start zoom photo time app crash restart lg se sometim go desktop version pc reposit zoom photo want resum edit back mobil                                                                           \n",
       "4     great app use make bt meme recent updat abl chang font style edit option font miss tri uninstal instal app still work edit option font appear rare previou version far better canva could pleas work                                                            \n",
       "...                                                                                                                                                                                                    ...                                                            \n",
       "1495  absolut amaz lifesav teacher                                                                                                                                                                                                                                    \n",
       "1496  nice mani time show error open ppt school project disturb                                                                                                                                                                                                       \n",
       "1497  much lag alway stuck start page worst app download                                                                                                                                                                                                              \n",
       "1498  nice app colleg work mani featur templat work love                                                                                                                                                                                                              \n",
       "1499  teacher much school year love                                                                                                                                                                                                                                   \n",
       "\n",
       "      score  \n",
       "0     4      \n",
       "1     5      \n",
       "2     1      \n",
       "3     5      \n",
       "4     4      \n",
       "...  ..      \n",
       "1495  5      \n",
       "1496  3      \n",
       "1497  1      \n",
       "1498  5      \n",
       "1499  5      \n",
       "\n",
       "[1500 rows x 2 columns]"
      ]
     },
     "execution_count": 52,
     "metadata": {},
     "output_type": "execute_result"
    }
   ],
   "source": [
    " # Clean the dataset using the defined function\n",
    "data['content'] = data['content'].apply(clean_text) #apply the function to every text in the dataset\n",
    "data"
   ]
  },
  {
   "cell_type": "code",
   "execution_count": 53,
   "metadata": {
    "id": "2YWBMroMp6Rq"
   },
   "outputs": [
    {
     "name": "stdout",
     "output_type": "stream",
     "text": [
      "5    952\n",
      "4    227\n",
      "1    170\n",
      "3    91 \n",
      "2    60 \n",
      "Name: score, dtype: int64\n"
     ]
    }
   ],
   "source": [
    "# Distribution of classes of the target variable score\n",
    "print(data.score.value_counts())"
   ]
  },
  {
   "cell_type": "markdown",
   "metadata": {
    "id": "D8ZlGAsdY9Tj"
   },
   "source": [
    "Since the dataset is imbalanced, thus should be balanced by resampling."
   ]
  },
  {
   "cell_type": "markdown",
   "metadata": {},
   "source": [
    "### Preprocessing data"
   ]
  },
  {
   "cell_type": "code",
   "execution_count": 54,
   "metadata": {
    "id": "t5RrvGtC4WYF"
   },
   "outputs": [],
   "source": [
    "# Divide the dataset to each class before resampling\n",
    "\n",
    "df_majority = data[data['score']==5] \n",
    "df_minority1= data[data['score']==2] \n",
    "df_minority2 = data[data['score']==3]\n",
    "df_minority3 = data[data['score']==1] \n",
    "df_minority4 = data[data['score']==4]"
   ]
  },
  {
   "cell_type": "code",
   "execution_count": 55,
   "metadata": {
    "id": "JDn58dHc5C0X"
   },
   "outputs": [],
   "source": [
    "#Upsampling the minority class and downsampling the majority class\n",
    "\n",
    "#Down Sampling Majority Class \"5\"\n",
    "df_majority_downsampled = resample(df_majority,replace=False,n_samples = 600)\n",
    "\n",
    "#Upsample Minority class  \"2\"\n",
    "df_minority_upsampled1 = resample(df_minority1,replace=True,n_samples = 200)\n",
    "\n",
    "#Upsample Minority class \"3\"\n",
    "df_minority_upsampled2 = resample(df_minority2,replace=True,n_samples=300)\n",
    "\n",
    "#Upsample Minority class \"1\"\n",
    "df_minority_upsampled3 = resample(df_minority3,replace=True,n_samples=225)\n",
    "\n",
    "#Upsample Minority class \"4\"\n",
    "df_minority_upsampled4 = resample(df_minority4,replace=True,n_samples=250)\n",
    "\n",
    "\n",
    "# Combine upsampled minority class with downsampled majority class\n",
    "data1 = pd.concat([df_majority_downsampled, df_minority_upsampled4,df_minority_upsampled1,df_minority_upsampled2,df_minority_upsampled3])\n"
   ]
  },
  {
   "cell_type": "code",
   "execution_count": 56,
   "metadata": {
    "id": "8URYtTbo5gGy"
   },
   "outputs": [
    {
     "data": {
      "text/plain": [
       "5    600\n",
       "3    300\n",
       "4    250\n",
       "1    225\n",
       "2    200\n",
       "Name: score, dtype: int64"
      ]
     },
     "execution_count": 56,
     "metadata": {},
     "output_type": "execute_result"
    }
   ],
   "source": [
    "data1.score.value_counts()"
   ]
  },
  {
   "cell_type": "code",
   "execution_count": 79,
   "metadata": {
    "id": "jjp7SOYz8wzG"
   },
   "outputs": [
    {
     "name": "stdout",
     "output_type": "stream",
     "text": [
      "Found 1307 unique tokens.\n"
     ]
    }
   ],
   "source": [
    "# Defining parameters and Tokenizer\n",
    "\n",
    "from tensorflow.keras.preprocessing.text import Tokenizer\n",
    "from tensorflow.keras.preprocessing.sequence import pad_sequences\n",
    "\n",
    "# The maximum number of words to be used. (most frequent)\n",
    "top_length = 2000\n",
    "# Max number of words in each Content.\n",
    "input_lengh = 600\n",
    "# This is fixed. Embedding\n",
    "embedding_dim = 100\n",
    "tokenizer = Tokenizer(num_words=input_lengh, filters='!\"#$%&()*+,-./:;<=>?@[\\]^_`{|}~', lower=True)\n",
    "tokenizer.fit_on_texts(data1['content'].values)\n",
    "word_index = tokenizer.word_index\n",
    "print('Found %s unique tokens.' % len(word_index))"
   ]
  },
  {
   "cell_type": "code",
   "execution_count": 59,
   "metadata": {
    "id": "n_9tXY3wZXOR"
   },
   "outputs": [
    {
     "name": "stdout",
     "output_type": "stream",
     "text": [
      "Shape of data tensor: 600\n"
     ]
    }
   ],
   "source": [
    " #Tokenizing the content\n",
    " \n",
    "X = tokenizer.texts_to_sequences(data1['content'].values)\n",
    "X = pad_sequences(X, maxlen=input_lengh)\n",
    "print('Shape of data tensor:', X.shape[1])"
   ]
  },
  {
   "cell_type": "markdown",
   "metadata": {
    "id": "nz49zx5Qcff1"
   },
   "source": [
    "### Preparing data for training "
   ]
  },
  {
   "cell_type": "code",
   "execution_count": 67,
   "metadata": {
    "id": "IQogXdMRZuIv"
   },
   "outputs": [
    {
     "name": "stdout",
     "output_type": "stream",
     "text": [
      "(1575,)\n",
      "[1 2 3 4 5]\n"
     ]
    },
    {
     "data": {
      "text/plain": [
       "dtype('int64')"
      ]
     },
     "execution_count": 67,
     "metadata": {},
     "output_type": "execute_result"
    }
   ],
   "source": [
    " # Encoding categorical variable \"Score\"\n",
    "from sklearn.preprocessing import LabelEncoder\n",
    "le = LabelEncoder()\n",
    "Y = le.fit_transform(data1['score'])\n",
    "print(Y.shape)\n",
    "print(le.classes_)\n",
    "Y.dtype"
   ]
  },
  {
   "cell_type": "code",
   "execution_count": 68,
   "metadata": {
    "id": "EZjjAcnCZz4B"
   },
   "outputs": [
    {
     "name": "stdout",
     "output_type": "stream",
     "text": [
      "(1275, 600) (1275,)\n",
      "(158, 600) (158,)\n",
      "(142, 600) (142,)\n"
     ]
    }
   ],
   "source": [
    " #Train,Test and validation Splits\n",
    "\n",
    "X_train, X_test, Y_train, Y_test = train_test_split(X, Y, test_size = 0.10, random_state = 42, stratify=Y)\n",
    "X_train, X_val, Y_train, Y_val = train_test_split(X_train, Y_train, test_size=0.1, random_state=42, stratify=Y_train)\n",
    "\n",
    "print(X_train.shape,Y_train.shape)\n",
    "print(X_test.shape,Y_test.shape)\n",
    "print(X_val.shape,Y_val.shape)"
   ]
  },
  {
   "cell_type": "code",
   "execution_count": 66,
   "metadata": {
    "id": "Tazgv11caEwf"
   },
   "outputs": [],
   "source": [
    " # Converting data into Torch ( not using a GPU in this project, so tensors are retained in the CPU)\n",
    "x_train = torch.tensor(X_train, dtype=torch.long)\n",
    "y_train = torch.tensor(Y_train, dtype=torch.long)\n",
    "x_cv = torch.tensor(X_val, dtype=torch.long)\n",
    "y_cv = torch.tensor(Y_val, dtype=torch.long)"
   ]
  },
  {
   "cell_type": "code",
   "execution_count": 69,
   "metadata": {
    "id": "0CDy5I6KafQk"
   },
   "outputs": [],
   "source": [
    "# converting dataset to  atocrh Dataset\n",
    "train = torch.utils.data.TensorDataset(x_train, y_train)\n",
    "valid = torch.utils.data.TensorDataset(x_cv, y_cv)"
   ]
  },
  {
   "cell_type": "code",
   "execution_count": 70,
   "metadata": {
    "id": "xJTZPvq9bSXW"
   },
   "outputs": [],
   "source": [
    "# Defing the Parameters for the model:\n",
    "max_features =  2000  \n",
    "batch_size = 50\n",
    "vocab_size = max_features # Total number of unique words in the  vocabulary\n",
    "\n",
    "# Initialising the DataLoaders\n",
    "train_dl = torch.utils.data.DataLoader(train, batch_size=batch_size, shuffle=True)\n",
    "val_dl = torch.utils.data.DataLoader(valid, batch_size=batch_size, shuffle=False)"
   ]
  },
  {
   "cell_type": "markdown",
   "metadata": {
    "id": "6pEF_VtECs_w"
   },
   "source": [
    "### Model Building"
   ]
  },
  {
   "cell_type": "code",
   "execution_count": 73,
   "metadata": {
    "id": "-DJNQS-qbWs5"
   },
   "outputs": [],
   "source": [
    "\n",
    "class LSTM(torch.nn.Module) :\n",
    "    def __init__(self, vocab_size, embedding_dim, hidden_dim) : # embedding_dim = size of each word's vector representation \n",
    "        #hidden_dim = number of units in the hidden layer\n",
    "        super().__init__()\n",
    "        self.hidden_dim = hidden_dim\n",
    "        self.embeddings = nn.Embedding(vocab_size, embedding_dim, padding_idx=0) # Padding_idx = padding tokens don't learn \n",
    "        self.drop  = nn.Dropout(p=0.2)\n",
    "        self.lstm = nn.LSTM(embedding_dim, hidden_dim, batch_first=True)\n",
    "        self.lstm1 = nn.LSTM(hidden_dim, 64, batch_first=True)\n",
    "        self.linear = nn.Linear(64, 5)\n",
    "        self.softmax = nn.Softmax(dim=1)\n",
    "        \n",
    "    def forward(self, x):\n",
    "        x = self.embeddings(x)\n",
    "        #x = self.drop(x)\n",
    "        out_pack, (ht, ct) = self.lstm(x)\n",
    "        out_pack1, (ht, ct) = self.lstm1(out_pack)\n",
    "        out = self.linear(ht[-1])\n",
    "        out = self.softmax(out)\n",
    "        return out"
   ]
  },
  {
   "cell_type": "code",
   "execution_count": 74,
   "metadata": {
    "id": "0L-QyIXbbfL5"
   },
   "outputs": [
    {
     "name": "stdout",
     "output_type": "stream",
     "text": [
      "LSTM(\n",
      "  (embeddings): Embedding(2000, 128, padding_idx=0)\n",
      "  (drop): Dropout(p=0.2, inplace=False)\n",
      "  (lstm): LSTM(128, 64, batch_first=True)\n",
      "  (lstm1): LSTM(64, 64, batch_first=True)\n",
      "  (linear): Linear(in_features=64, out_features=5, bias=True)\n",
      "  (softmax): Softmax(dim=1)\n",
      ")\n"
     ]
    }
   ],
   "source": [
    "#intializing model\n",
    "model = LSTM(vocab_size, 128,64)\n",
    "print(model)"
   ]
  },
  {
   "cell_type": "markdown",
   "metadata": {
    "id": "BU8QYYE0CHOf"
   },
   "source": [
    "### Model Tranining And Validation"
   ]
  },
  {
   "cell_type": "code",
   "execution_count": 81,
   "metadata": {
    "colab": {
     "base_uri": "https://localhost:8080/"
    },
    "id": "V6b_K0nCbkQQ",
    "outputId": "e238b695-f5f8-4fbd-fb8f-dbc23bf33d04"
   },
   "outputs": [
    {
     "name": "stderr",
     "output_type": "stream",
     "text": [
      "/tmp/ipykernel_26266/504418151.py:43: UserWarning: Implicit dimension choice for softmax has been deprecated. Change the call to include dim=X as an argument.\n",
      "  val_preds[i * batch_size:(i+1) * batch_size] =F.softmax(y_pred).cpu().numpy() # store in cpu as numpy arrays for easier storing and processing\n"
     ]
    },
    {
     "name": "stdout",
     "output_type": "stream",
     "text": [
      "Epoch 1/10 \t loss=1.0327 \t val_loss=1.1413  \t val_acc=0.7606  \t time=11.35s\n",
      "Epoch 2/10 \t loss=1.0219 \t val_loss=1.1275  \t val_acc=0.7817  \t time=13.04s\n",
      "Epoch 3/10 \t loss=1.0127 \t val_loss=1.1354  \t val_acc=0.7535  \t time=11.32s\n",
      "Epoch 4/10 \t loss=1.0076 \t val_loss=1.1294  \t val_acc=0.7746  \t time=11.93s\n",
      "Epoch 5/10 \t loss=1.0090 \t val_loss=1.1240  \t val_acc=0.7606  \t time=11.82s\n",
      "Epoch 6/10 \t loss=1.0045 \t val_loss=1.1395  \t val_acc=0.7465  \t time=17.38s\n",
      "Epoch 7/10 \t loss=1.0065 \t val_loss=1.1303  \t val_acc=0.7606  \t time=11.93s\n",
      "Epoch 8/10 \t loss=1.0001 \t val_loss=1.1168  \t val_acc=0.7817  \t time=11.33s\n",
      "Epoch 9/10 \t loss=1.0003 \t val_loss=1.1017  \t val_acc=0.8099  \t time=11.31s\n",
      "Epoch 10/10 \t loss=0.9970 \t val_loss=1.1063  \t val_acc=0.7958  \t time=13.22s\n"
     ]
    }
   ],
   "source": [
    "# Defining Train Loop:\n",
    "\n",
    "n_epochs = 10\n",
    "\n",
    "loss_fn = nn.CrossEntropyLoss() # Loss Function\n",
    "optimizer = torch.optim.Adam(model.parameters(), lr=0.001) # Optimiser\n",
    "\n",
    "## If using GPU , move the model.\n",
    "# model.cuda() # Moving Model Into GPU\n",
    "# loss_fn.cuda() # Moving Loss Function Into GPU\n",
    "\n",
    "train_loss = []\n",
    "valid_loss = []\n",
    "for epoch in range(n_epochs):\n",
    "      start_time = time.time()\n",
    "\n",
    "    # Set model to train configuration\n",
    "      model.train() # indicator for training\n",
    "      avg_loss = 0.  \n",
    "      for i, (x_batch, y_batch) in enumerate(train_dl):\n",
    "          y_pred = model(x_batch) # forwad pass/ prediction\n",
    "        \n",
    "\n",
    "          # Compute loss\n",
    "          loss = loss_fn(y_pred, y_batch)\n",
    "          optimizer.zero_grad()\n",
    "          loss.backward() \n",
    "          optimizer.step()\n",
    "          avg_loss += loss.item() / len(train_dl) # using loss.item() retrieves the scalar loss\n",
    "          \n",
    "\n",
    "      # Set model to validation configuration\n",
    "      model.eval() # Indicator for Validation       \n",
    "      avg_val_loss = 0.\n",
    "      val_preds = np.zeros((len(x_cv),len(le.classes_)))# Ensures predictions have correct shape before filling with actual outputs\n",
    "    \n",
    "      for i, (x_batch, y_batch) in enumerate(val_dl):\n",
    "          y_pred = model(x_batch).detach() # saves memory from gradient computing (predictons not intefere with trainining) \n",
    "          avg_val_loss += loss_fn(y_pred, y_batch).item() / len(val_dl)\n",
    "\n",
    "           #keep/store predictions\n",
    "\n",
    "          val_preds[i * batch_size:(i+1) * batch_size] =F.softmax(y_pred).cpu().numpy() # store in cpu as numpy arrays for easier storing and processing \n",
    "          \n",
    "          # Check Accuracy\n",
    "      val_accuracy = sum(val_preds.argmax(axis=1)==Y_val)/len(Y_val)\n",
    "      train_loss.append(avg_loss)\n",
    "      valid_loss.append(avg_val_loss)\n",
    "      elapsed_time = time.time() - start_time \n",
    "      print('Epoch {}/{} \\t loss={:.4f} \\t val_loss={:.4f}  \\t val_acc={:.4f}  \\t time={:.2f}s'.format(\n",
    "                epoch + 1, n_epochs, avg_loss, avg_val_loss, val_accuracy, elapsed_time))\n"
   ]
  },
  {
   "cell_type": "markdown",
   "metadata": {
    "id": "AmoyY-cJjQoo"
   },
   "source": [
    "### Plotting the Loss"
   ]
  },
  {
   "cell_type": "code",
   "execution_count": 80,
   "metadata": {
    "id": "2SMrXaqS_QG9"
   },
   "outputs": [],
   "source": [
    "#loss vs epoch graph\n",
    "def plot_graph(epochs):\n",
    "    fig = plt.figure(figsize=(12,12))\n",
    "    plt.title(\"Train/Validation Loss\")\n",
    "    plt.plot(list(np.arange(epochs) + 1) , train_loss, label='train') \n",
    "    plt.plot(list(np.arange(epochs) + 1), valid_loss, label='validation') \n",
    "    plt.xlabel('num_epochs', fontsize=12)\n",
    "    plt.ylabel('loss', fontsize=12)\n",
    "    plt.legend(loc='best')"
   ]
  },
  {
   "cell_type": "code",
   "execution_count": 78,
   "metadata": {
    "colab": {
     "base_uri": "https://localhost:8080/",
     "height": 733
    },
    "id": "tyoMnxjjh6Cg",
    "outputId": "749cf4c3-c98c-4a8c-9664-00c5e219e9f2",
    "scrolled": true
   },
   "outputs": [
    {
     "data": {
      "image/png": "[encoded data removed]",
      "text/plain": [
       "<Figure size 1200x1200 with 1 Axes>"
      ]
     },
     "metadata": {},
     "output_type": "display_data"
    }
   ],
   "source": [
    "plot_graph(n_epochs)"
   ]
  }
 ],
 "metadata": {
  "accelerator": "GPU",
  "colab": {
   "collapsed_sections": [],
   "name": "Text_Classif_LSTM.ipynb",
   "provenance": []
  },
  "kernelspec": {
   "display_name": "conda_python3",
   "language": "python",
   "name": "conda_python3"
  },
  "language_info": {
   "codemirror_mode": {
    "name": "ipython",
    "version": 3
   },
   "file_extension": ".py",
   "mimetype": "text/x-python",
   "name": "python",
   "nbconvert_exporter": "python",
   "pygments_lexer": "ipython3",
   "version": "3.10.17"
  }
 },
 "nbformat": 4,
 "nbformat_minor": 4
}
